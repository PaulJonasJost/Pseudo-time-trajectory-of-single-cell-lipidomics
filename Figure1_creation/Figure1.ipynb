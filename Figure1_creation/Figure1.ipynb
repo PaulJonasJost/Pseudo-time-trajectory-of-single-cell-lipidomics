{
 "cells": [
  {
   "metadata": {},
   "cell_type": "markdown",
   "source": [
    "# Figure 1 creation\n",
    "\n",
    "This notebook exclusively creates **Figure 1B** of the paper. It consists of a very simple **toy model**, that is used to showcase the problem of cell heterogeneity. The model is a simple conversion reaction between two species, A and B, where A is converted to B and vice versa. The model is described in SBML format and is imported into AMICI using the `amici.SbmlImporter`. The notebook then runs simulations of the model and visualizes the results."
   ]
  },
  {
   "cell_type": "code",
   "metadata": {
    "pycharm": {
     "name": "#%%\n"
    }
   },
   "source": [
    "import importlib\n",
    "import os\n",
    "import sys\n",
    "\n",
    "import amici\n",
    "import libsbml\n",
    "import matplotlib.pyplot as plt\n",
    "import matplotlib.ticker as ticker\n",
    "import numpy as np\n",
    "\n",
    "# sbml file\n",
    "sbml_file = \"conversion_reaction.xml\"\n",
    "\n",
    "# name of the model that will also be the name of the python module\n",
    "model_name = \"conversion_reaction\"\n",
    "\n",
    "# output directory\n",
    "model_output_dir = \"tmp/\" + model_name"
   ],
   "outputs": [],
   "execution_count": null
  },
  {
   "cell_type": "markdown",
   "metadata": {
    "pycharm": {
     "name": "#%% md\n"
    }
   },
   "source": [
    "## The example model\n",
    "\n",
    "Here we use `libsbml` to show the reactions and species described by the model (this is independent of AMICI). The notebook creates Figure 1 B for the paper."
   ]
  },
  {
   "cell_type": "code",
   "metadata": {
    "pycharm": {
     "name": "#%%\n"
    }
   },
   "source": [
    "sbml_reader = libsbml.SBMLReader()\n",
    "sbml_doc = sbml_reader.readSBML(os.path.abspath(sbml_file))\n",
    "sbml_model = sbml_doc.getModel()\n",
    "dir(sbml_doc)\n",
    "print(os.path.abspath(sbml_file))\n",
    "print(\"Species: \", [s.getId() for s in sbml_model.getListOfSpecies()])\n",
    "print(\"Parameters: \", [p.getId() for p in sbml_model.getListOfParameters()])\n",
    "\n",
    "print(\"\\nReactions:\")\n",
    "for reaction in sbml_model.getListOfReactions():\n",
    "    reactants = \" + \".join(\n",
    "        [\n",
    "            \"%s %s\"\n",
    "            % (\n",
    "                int(r.getStoichiometry()) if r.getStoichiometry() > 1 else \"\",\n",
    "                r.getSpecies(),\n",
    "            )\n",
    "            for r in reaction.getListOfReactants()\n",
    "        ]\n",
    "    )\n",
    "    products = \" + \".join(\n",
    "        [\n",
    "            \"%s %s\"\n",
    "            % (\n",
    "                int(r.getStoichiometry()) if r.getStoichiometry() > 1 else \"\",\n",
    "                r.getSpecies(),\n",
    "            )\n",
    "            for r in reaction.getListOfProducts()\n",
    "        ]\n",
    "    )\n",
    "    reversible = \"<\" if reaction.getReversible() else \"\"\n",
    "    print(\n",
    "        \"%3s: %10s %1s->%10s\\t\\t[%s]\"\n",
    "        % (\n",
    "            reaction.getId(),\n",
    "            reactants,\n",
    "            reversible,\n",
    "            products,\n",
    "            libsbml.formulaToL3String(reaction.getKineticLaw().getMath()),\n",
    "        )\n",
    "    )"
   ],
   "outputs": [],
   "execution_count": null
  },
  {
   "cell_type": "markdown",
   "metadata": {
    "pycharm": {
     "name": "#%% md\n"
    }
   },
   "source": [
    "## Importing an SBML model, compiling and generating an AMICI module\n",
    "\n",
    "Before we can use AMICI to simulate our model, the SBML model needs to be translated to C++ code. This is done by `amici.SbmlImporter`."
   ]
  },
  {
   "cell_type": "code",
   "metadata": {
    "pycharm": {
     "name": "#%%\n"
    }
   },
   "source": [
    "# Create an SbmlImporter instance for our SBML model\n",
    "sbml_importer = amici.SbmlImporter(sbml_file)"
   ],
   "outputs": [],
   "execution_count": null
  },
  {
   "cell_type": "markdown",
   "metadata": {
    "pycharm": {
     "name": "#%% md\n"
    }
   },
   "source": [
    "### Generating the module\n",
    "\n",
    "Now we can generate the python module for our model. `amici.SbmlImporter.sbml2amici` will symbolically derive the sensitivity equations, generate C++ code for model simulation, and assemble the python module."
   ]
  },
  {
   "cell_type": "code",
   "metadata": {
    "pycharm": {
     "name": "#%%\n"
    }
   },
   "source": [
    "sbml_importer.sbml2amici(\n",
    "    model_name,\n",
    "    model_output_dir\n",
    ")"
   ],
   "outputs": [],
   "execution_count": null
  },
  {
   "cell_type": "markdown",
   "metadata": {
    "pycharm": {
     "name": "#%% md\n"
    }
   },
   "source": [
    "### Importing the module and loading the model\n",
    "\n",
    "If everything went well, we need to add the previously selected model output directory to our PYTHON_PATH. After this we are ready to load the newly generated model:"
   ]
  },
  {
   "cell_type": "code",
   "metadata": {
    "pycharm": {
     "name": "#%%\n"
    }
   },
   "source": [
    "sys.path.insert(0, os.path.abspath(model_output_dir))\n",
    "model_module = importlib.import_module(model_name)"
   ],
   "outputs": [],
   "execution_count": null
  },
  {
   "cell_type": "markdown",
   "metadata": {
    "pycharm": {
     "name": "#%% md\n"
    }
   },
   "source": [
    "Afterwards, we can get an instance of our model from which we can retrieve information such as parameter names:"
   ]
  },
  {
   "cell_type": "code",
   "metadata": {
    "pycharm": {
     "name": "#%%\n"
    }
   },
   "source": [
    "model = model_module.getModel()\n",
    "\n",
    "print(\"Model parameters:\", list(model.getParameterIds()))\n",
    "print(\"Model outputs:   \", list(model.getObservableIds()))\n",
    "print(\"Model states:    \", list(model.getStateIds()))"
   ],
   "outputs": [],
   "execution_count": null
  },
  {
   "cell_type": "markdown",
   "metadata": {
    "pycharm": {
     "name": "#%% md\n"
    }
   },
   "source": [
    "## Running simulations and analyzing results\n",
    "\n",
    "After importing the model, we can run simulations using `amici.runAmiciSimulation`. This requires a `Model` instance and a `Solver` instance. Optionally you can provide measurements inside an `ExpData` instance, as shown later in this notebook."
   ]
  },
  {
   "cell_type": "code",
   "metadata": {
    "pycharm": {
     "name": "#%%\n"
    }
   },
   "source": [
    "# set timepoints\n",
    "# model.setTimepoints(np.linspace(0, 40, 41))\n",
    "timepoints_fig1a = np.logspace(-1, 1, 41, base=40)\n",
    "model.setTimepoints(timepoints_fig1a)\n",
    "\n",
    "# set starting points\n",
    "start_mean = np.array([2.0, 2.0])\n",
    "# add normally distributed noise with standard deviation 0.1\n",
    "start1 = start_mean + np.random.normal(0, 0.1, 2)\n",
    "start2 = start_mean + np.random.normal(0, 0.1, 2)\n",
    "start3 = start_mean + np.random.normal(0, 0.1, 2)\n",
    "start4 = start_mean + np.random.normal(0, 0.1, 2)\n",
    "\n",
    "# Create solver instance\n",
    "solver = model.getSolver()\n",
    "\n",
    "# create three sets of parameters, all parameters are set to 1.0 plus normally distributed noise with standard deviation 0.1\n",
    "parameters_1 = np.array([1.0] * model.np()) + np.random.normal(0, 0.1, model.np())\n",
    "parameters_2 = np.array([1.0] * model.np()) + np.random.normal(0, 0.1, model.np())\n",
    "parameters_3 = np.array([1.0] * model.np()) + np.random.normal(0, 0.1, model.np())\n",
    "parameters_4 = np.array([1.0] * model.np()) + np.random.normal(0, 0.1, model.np())\n",
    "\n",
    "# run simulation for each set of parameters\n",
    "model.setParameters(parameters_1)\n",
    "model.setInitialStates(start1)\n",
    "rdata_1 = amici.runAmiciSimulation(model, solver)\n",
    "model.setParameters(parameters_2)\n",
    "model.setInitialStates(start2)\n",
    "rdata_2 = amici.runAmiciSimulation(model, solver)\n",
    "model.setParameters(parameters_3)\n",
    "model.setInitialStates(start3)\n",
    "rdata_3 = amici.runAmiciSimulation(model, solver)\n",
    "model.setParameters(parameters_4)\n",
    "model.setInitialStates(start4)\n",
    "rdata_4 = amici.runAmiciSimulation(model, solver)"
   ],
   "outputs": [],
   "execution_count": null
  },
  {
   "cell_type": "code",
   "source": [
    "meas_1 = rdata_1.x\n",
    "meas_2 = rdata_2.x\n",
    "meas_3 = rdata_3.x\n",
    "meas_4 = rdata_4.x\n",
    "meas = [meas_1, meas_2, meas_3, meas_4]"
   ],
   "metadata": {
    "collapsed": false,
    "pycharm": {
     "name": "#%%\n"
    }
   },
   "outputs": [],
   "execution_count": null
  },
  {
   "cell_type": "code",
   "source": [
    "# colors for cells\n",
    "plt.rcParams['axes.edgecolor']='black'\n",
    "colors_c = [\"#007f5f\", \"#aacc00\", \"#942193\", \"#17c3b2\"]"
   ],
   "metadata": {
    "collapsed": false,
    "pycharm": {
     "name": "#%%\n"
    }
   },
   "outputs": [],
   "execution_count": null
  },
  {
   "cell_type": "markdown",
   "source": [
    "# Picture for timepoint clouds"
   ],
   "metadata": {
    "collapsed": false,
    "pycharm": {
     "name": "#%% md\n"
    }
   }
  },
  {
   "cell_type": "code",
   "source": [
    "# create 100 sets of parameters, all parameters are set to 1.0 plus normally distributed noise with standard deviation 0.1. Also check that a values are positive\n",
    "n_samples = 1000\n",
    "parameters = np.array([1.0] * model.np()) + np.random.normal(0, 0.1, (n_samples, model.np()))\n",
    "startpoints = np.array([2.0, 2.0]) + np.random.normal(0, 0.1, (n_samples, 2))\n",
    "if np.any(parameters < 0):\n",
    "    raise ValueError(\"Negative parameter values encountered\")"
   ],
   "metadata": {
    "collapsed": false,
    "pycharm": {
     "name": "#%%\n"
    }
   },
   "outputs": [],
   "execution_count": null
  },
  {
   "cell_type": "code",
   "source": [
    "# run simulation for all parameters and save each timepoint result in a different array\n",
    "t_10 = np.zeros((n_samples, 2))\n",
    "t_0 = np.zeros((n_samples, 2))\n",
    "t_20 = np.zeros((n_samples, 2))\n",
    "t_40 = np.zeros((n_samples, 2))\n",
    "for i, p in enumerate(parameters):\n",
    "    model.setParameters(p)\n",
    "    model.setInitialStates(startpoints[i, :])\n",
    "    rdata = amici.runAmiciSimulation(model, solver)\n",
    "    t_10[i, :] = rdata.x[10, :]\n",
    "    t_0[i, :] = rdata.x[0, :]\n",
    "    t_20[i, :] = rdata.x[20, :]\n",
    "    t_40[i, :] = rdata.x[40, :]"
   ],
   "metadata": {
    "collapsed": false,
    "pycharm": {
     "name": "#%%\n"
    }
   },
   "outputs": [],
   "execution_count": null
  },
  {
   "cell_type": "code",
   "source": [
    "# colors for timepoints:\n",
    "colors_t = [\"#ffbe0b\", \"#fb5607\", \"#ff006e\", \"#8338ec\"]\n",
    "\n",
    "# draw a plot x-axis being species 1, y-axis being species 2\n",
    "fig, ax = plt.subplots(1, 1, figsize=(4.5, 4.5))\n",
    "# draw the points in the timepoint clouds and them transparent\n",
    "ax.scatter(t_0[:, 0], t_0[:, 1], color=colors_t[0], alpha=0.025, label=\"$T_0$\")\n",
    "ax.scatter(t_10[:, 0], t_10[:, 1], color=colors_t[1], alpha=0.025, label=\"$T_1$\")\n",
    "ax.scatter(t_20[:, 0], t_20[:, 1], color=colors_t[2], alpha=0.025, label=\"$T_2$\")\n",
    "ax.scatter(t_40[:, 0], t_40[:, 1], color=colors_t[3], alpha=0.025, label=\"$T_3$\")\n",
    "\n",
    "# add legend on the upper right but make the points in the legend\n",
    "ax.legend(loc=\"upper right\")\n",
    "\n",
    "# add one point for each cell\n",
    "ax.scatter(meas_1[0, 0], meas_1[0, 1], color=colors_c[0], alpha=1, label=\"cell 1\")\n",
    "ax.scatter(meas_2[10, 0], meas_2[10, 1], color=colors_c[1], alpha=1, label=\"cell 2\")\n",
    "ax.scatter(meas_3[20, 0], meas_3[20, 1], color=colors_c[2], alpha=1, label=\"cell 3\")\n",
    "ax.scatter(meas_4[40, 0], meas_4[40, 1], color=colors_c[3], alpha=1, label=\"cell 4\")\n",
    "\n",
    "# add labels\n",
    "ax.set_xlabel(\"Concentration of A\")\n",
    "ax.set_ylabel(\"Concentration of B\")\n",
    "\n",
    "# # remove ticks and labels\n",
    "# ax.set_xticks([])\n",
    "# ax.set_yticks([])\n",
    "# get limits\n",
    "x = ax.get_xlim()\n",
    "y = ax.get_ylim()\n",
    "ax.grid(False)\n",
    "# relative measurements\n",
    "ax.yaxis.set_major_formatter(ticker.PercentFormatter(xmax = y[1]))\n",
    "ax.xaxis.set_major_formatter(ticker.PercentFormatter(xmax = x[1]))\n",
    "\n",
    "fig.tight_layout()\n",
    "\n",
    "plt.savefig(\"conversion_reaction_timepoint_clouds.pdf\")\n",
    "\n",
    "# plot the same plot but non transparent\n",
    "fig, ax = plt.subplots(1, 1, figsize=(4.5, 4.5))\n",
    "# draw the points in the timepoint clouds and them transparent\n",
    "ax.scatter(t_0[0:10, 0], t_0[0:10, 1], color=colors_t[0], alpha=1, label=\"$T_0$\")\n",
    "ax.scatter(t_10[0:10, 0], t_10[0:10, 1], color=colors_t[1], alpha=1, label=\"$T_1$\")\n",
    "ax.scatter(t_20[0:10, 0], t_20[0:10, 1], color=colors_t[2], alpha=1, label=\"$T_2$\")\n",
    "ax.scatter(t_40[0:10, 0], t_40[0:10, 1], color=colors_t[3], alpha=1, label=\"$T_3$\")\n",
    "\n",
    "# add legend on the upper right out of the plot\n",
    "ax.legend(loc=\"upper right\")\n",
    "# add labels\n",
    "ax.set_xlabel(\"Concentration of A\")\n",
    "ax.set_ylabel(\"Concentration of B\")\n",
    "ax.grid(False)\n",
    "# remove ticks and labels\n",
    "ax.set_xticks([])\n",
    "ax.set_yticks([])\n",
    "fig.tight_layout()\n",
    "\n",
    "plt.savefig(\"conversion_reaction_timepoint_clouds_non_transparent.pdf\")"
   ],
   "metadata": {
    "collapsed": false,
    "pycharm": {
     "name": "#%%\n"
    }
   },
   "outputs": [],
   "execution_count": null
  },
  {
   "cell_type": "code",
   "source": [
    "# take out 3 random parameters from parameters\n",
    "p_rand = parameters[np.random.choice(n_samples, 3, replace=False), :]\n",
    "\n",
    "# run simulation for all parameters and save the results\n",
    "data_rand = []\n",
    "for p in p_rand:\n",
    "    model.setParameters(p)\n",
    "    # take out the 0th, 10th, 20th and 40th timepoint\n",
    "    data_rand.append(amici.runAmiciSimulation(model, solver).x[[0, 10, 20, 40], :])"
   ],
   "metadata": {
    "collapsed": false,
    "pycharm": {
     "name": "#%%\n"
    }
   },
   "outputs": [],
   "execution_count": null
  },
  {
   "cell_type": "code",
   "source": [
    "# draw a plot x-axis being species 1, y-axis being species 2\n",
    "fig, ax = plt.subplots(1, 1, figsize=(4.5, 4.5))\n",
    "\n",
    "# draw the clouds\n",
    "ax.scatter(t_0[:, 0], t_0[:, 1], color=colors_t[0], alpha=0.025)\n",
    "ax.scatter(t_10[:, 0], t_10[:, 1], color=colors_t[1], alpha=0.025)\n",
    "ax.scatter(t_20[:, 0], t_20[:, 1], color=colors_t[2], alpha=0.025)\n",
    "ax.scatter(t_40[:, 0], t_40[:, 1], color=colors_t[3], alpha=0.025)\n",
    "\n",
    "for i, measure in enumerate(meas):\n",
    "    d = measure[[0, 10, 20, 40], :]\n",
    "    ax.plot(d[:, 0], d[:, 1], label=f\"cell {i + 1}\", linestyle=\"--\", marker=\"o\", color = colors_c[i])\n",
    "\n",
    "# add legend\n",
    "ax.legend()\n",
    "# add labels\n",
    "ax.set_xlabel(\"Concentration of A\")\n",
    "ax.set_ylabel(\"Concentration of B\")\n",
    "\n",
    "# # remove ticks and labels\n",
    "# ax.set_xticks([])\n",
    "# ax.set_yticks([])\n",
    "\n",
    "# relative measurements\n",
    "ax.yaxis.set_major_formatter(ticker.PercentFormatter(xmax = y[1]))\n",
    "ax.xaxis.set_major_formatter(ticker.PercentFormatter(xmax = x[1]))\n",
    "ax.grid(False)\n",
    "fig.tight_layout()\n",
    "\n",
    "plt.savefig(\"conversion_reaction_timepoint_clouds_with_trajectories.pdf\")"
   ],
   "metadata": {
    "collapsed": false,
    "pycharm": {
     "name": "#%%\n"
    }
   },
   "outputs": [],
   "execution_count": null
  },
  {
   "cell_type": "code",
   "source": [
    "x = ax.get_xlim()\n",
    "y = ax.get_ylim()\n",
    "print(x,y)"
   ],
   "metadata": {
    "collapsed": false,
    "pycharm": {
     "name": "#%%\n"
    }
   },
   "outputs": [],
   "execution_count": null
  },
  {
   "cell_type": "code",
   "source": [
    "# draw a plot x-axis being species 1, y-axis being species 2\n",
    "fig, ax = plt.subplots(1, 1, figsize=(4.5, 4.5))\n",
    "ax.plot(meas_1[:, 0], meas_1[:, 1], label=\"cell 1\", color = \"#007f5f\", linestyle=\"-\", markevery = [0, 10, 20, 40], marker = 'o')\n",
    "ax.plot(meas_2[:, 0], meas_2[:, 1], label=\"cell 2\", color=\"#aacc00\", linestyle=\"-\", markevery = [0, 10, 20, 40], marker = 'o')\n",
    "ax.plot(meas_3[:, 0], meas_3[:, 1], label=\"cell 3\", color=\"#942193\" , linestyle=\"-\", markevery = [0, 10, 20, 40], marker = 'o')\n",
    "ax.plot(meas_4[:, 0], meas_4[:, 1], label=\"cell 4\", color=\"#17c3b2\", linestyle=\"-\", markevery = [0, 10, 20, 40], marker = 'o')\n",
    "# add legend\n",
    "ax.legend()\n",
    "# add labels\n",
    "ax.set_xlabel(\"Concentration of A\")\n",
    "ax.set_ylabel(\"Concentration of B\")\n",
    "\n",
    "ax.set_xlim(x)\n",
    "ax.set_ylim(y)\n",
    "\n",
    "# relative measurements\n",
    "ax.yaxis.set_major_formatter(ticker.PercentFormatter(xmax = y[1]))\n",
    "ax.xaxis.set_major_formatter(ticker.PercentFormatter(xmax = x[1]))\n",
    "\n",
    "ax.grid(False)\n",
    "\n",
    "fig.tight_layout()\n",
    "\n",
    "fig.savefig(\"conversion_reaction.pdf\")"
   ],
   "metadata": {
    "collapsed": false,
    "pycharm": {
     "name": "#%%\n"
    }
   },
   "outputs": [],
   "execution_count": null
  },
  {
   "cell_type": "code",
   "source": [],
   "metadata": {
    "collapsed": false,
    "pycharm": {
     "name": "#%%\n"
    }
   },
   "outputs": [],
   "execution_count": null
  }
 ],
 "metadata": {
  "kernelspec": {
   "display_name": "Python 3 (ipykernel)",
   "language": "python",
   "name": "python3"
  },
  "language_info": {
   "codemirror_mode": {
    "name": "ipython",
    "version": 3
   },
   "file_extension": ".py",
   "mimetype": "text/x-python",
   "name": "python",
   "nbconvert_exporter": "python",
   "pygments_lexer": "ipython3",
   "version": "3.9.7"
  }
 },
 "nbformat": 4,
 "nbformat_minor": 4
}
