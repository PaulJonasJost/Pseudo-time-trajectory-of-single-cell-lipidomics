{
 "cells": [
  {
   "metadata": {},
   "cell_type": "markdown",
   "source": [
    "# Analysis of the Multilabel Workflow\n",
    "\n",
    "In this notebook, we want to compare the impact of the number of labels on optimization, dynamic and identifiability of the model.\n",
    "\n",
    "This notebook mainly serves to create **Figure 6**"
   ]
  },
  {
   "cell_type": "code",
   "metadata": {
    "pycharm": {
     "name": "#%%\n"
    }
   },
   "source": [
    "import matplotlib.lines as mlines\n",
    "import matplotlib.pyplot as plt\n",
    "import numpy as np\n",
    "import pypesto.visualize.model_fit as model_fit\n",
    "\n",
    "from matplotlib.colors import LinearSegmentedColormap\n",
    "from analyze_results import CumulativeResultsLabels"
   ],
   "outputs": [],
   "execution_count": null
  },
  {
   "cell_type": "code",
   "metadata": {
    "pycharm": {
     "name": "#%%\n"
    }
   },
   "source": [
    "# We define some variables that will reoccur more often.\n",
    "model_name = 'lipidomics_2023_08_29'\n",
    "res_dict = '../Results_h5'"
   ],
   "outputs": [],
   "execution_count": null
  },
  {
   "metadata": {},
   "cell_type": "markdown",
   "source": "We start by loading all results of all different models into a singular object, that can then visualize comparisons etc"
  },
  {
   "cell_type": "code",
   "metadata": {
    "pycharm": {
     "name": "#%%\n"
    }
   },
   "source": [
    "cum_res = CumulativeResultsLabels(\n",
    "    model_name, res_dict, offset=1, n_labels=5, n_res=1000\n",
    ")"
   ],
   "outputs": [],
   "execution_count": null
  },
  {
   "cell_type": "code",
   "metadata": {
    "pycharm": {
     "name": "#%%\n"
    }
   },
   "source": [
    "# In addition to the hdf5 file we will be in need of the PEtab problem and the pyPESTO problem accordingly\n",
    "cum_res.load_petab_problems(\"../Petab_models_230829/multilabels\")"
   ],
   "outputs": [],
   "execution_count": null
  },
  {
   "cell_type": "code",
   "metadata": {
    "pycharm": {
     "name": "#%%\n"
    }
   },
   "source": [
    "cum_res.load_pypesto_problems(force_compile=True)"
   ],
   "outputs": [],
   "execution_count": null
  },
  {
   "cell_type": "code",
   "metadata": {},
   "source": [
    "cum_res.overview_failed_starts()"
   ],
   "outputs": [],
   "execution_count": null
  },
  {
   "metadata": {},
   "cell_type": "markdown",
   "source": "In the following, we use the eigenvalues of the Fisher Information Matrix, to get indications about the identifiability of a parameter. This will create **Figure 6D**. First we calculate the eigenvalues for all results we got."
  },
  {
   "metadata": {},
   "cell_type": "code",
   "source": "eigenvals = cum_res.calculate_fim_eigenvals()",
   "outputs": [],
   "execution_count": null
  },
  {
   "cell_type": "code",
   "metadata": {},
   "source": [
    "# We inspect the eigenvalues, which are already sorted by number of labels by their medians. We also for the sake of visualization cutoff the eigenvalues to 1e-20 for very small values. This is just for visalization purposes and has no inpact on the distribution\n",
    "eigenvals = [np.real(eigval) for eigval in eigenvals]\n",
    "eig_cutted = [[max(eig, 1e-20) for eig in eigenval] for eigenval in eigenvals]\n",
    "log_eigenvals = [np.log10(eigval) for eigval in eig_cutted]\n",
    "\n",
    "eigen_val_median = [np.median(eigval) for eigval in eigenvals]\n",
    "eigen_val_median_cutted = [np.median(eigval) for eigval in eig_cutted]\n",
    "\n",
    "print(f\"medians: {eigen_val_median}\")\n",
    "print(f\"medians: {eigen_val_median_cutted}\")"
   ],
   "outputs": [],
   "execution_count": null
  },
  {
   "cell_type": "code",
   "metadata": {},
   "source": [
    "# We then inspect the eigenvalues for mean and small/great values. This gives an indication of the general identifiability of the model.\n",
    "eigen_val_means = [np.mean(eigval) for eigval in eigenvals]\n",
    "eigen_val_median = [np.median(eigval) for eigval in eigenvals]\n",
    "eigen_val_zero = [np.sum(eigval < 1e-15) for eigval in eigenvals]\n",
    "eigen_val_geq1 = [np.sum(eigval > 1)/len(eigval) for eigval in eigenvals]\n",
    "print(f\"means: {eigen_val_means}\")\n",
    "print(f\"medians: {eigen_val_median}\")\n",
    "print(eigen_val_zero)\n",
    "print(eigen_val_geq1)"
   ],
   "outputs": [],
   "execution_count": null
  },
  {
   "cell_type": "code",
   "metadata": {},
   "source": "colors = [\"#E96F6F50\", \"#E9E96F50\", \"#65F26550\", \"#6FE9E950\", \"#6565F250\", \"#E96FE950\"]",
   "outputs": [],
   "execution_count": null
  },
  {
   "metadata": {},
   "cell_type": "markdown",
   "source": "After the inspection, the following codeblock creates violinplots of the eigenvalues. This corresponds to **Figure 6D**"
  },
  {
   "cell_type": "code",
   "metadata": {},
   "source": [
    "# Figure 6D\n",
    "print(f\"medians: {eigen_val_median}\")\n",
    "\n",
    "eig = log_eigenvals\n",
    "eigenvals_log_cutted_median = [np.log10(np.median(np.power(10, eigval))) for eigval in eig]\n",
    "print(f\"medians cutted: {eigenvals_log_cutted_median}\")\n",
    "fig, ax = plt.subplots(figsize=(15, 5))\n",
    "\n",
    "\n",
    "violin_parts = ax.violinplot(eig, showmedians=True)\n",
    "\n",
    "for i_pc, pc in enumerate(violin_parts['bodies']):\n",
    "    pc.set_facecolor(colors[i_pc])\n",
    "    pc.set_edgecolor('black')\n",
    "for i, v in enumerate(eigenvals_log_cutted_median):\n",
    "    plt.text((i + 1.15), (v - .5), str(round(v, 4)), fontsize = 12)\n",
    "\n",
    "plt.tick_params(left = False, bottom = False, which='both')\n",
    "plt.savefig(\"Figure5/violins.pdf\")\n",
    "plt.savefig(\"Figure5/violins.svg\")"
   ],
   "outputs": [],
   "execution_count": null
  },
  {
   "metadata": {},
   "cell_type": "markdown",
   "source": "In **Figure 6A** We Visualize the different dynamics of the model with the example of MAG. This mainly serves to show hoe the different number of labels influence the dynamics. We first define the necessary function:"
  },
  {
   "cell_type": "code",
   "metadata": {},
   "source": [
    "def experimental_setup(result, problem, n_labels):\n",
    "    a = lambda i: \"ul\" if i==0 else f\"{i}\"\n",
    "    obs_names = [\n",
    "        f'observable_MAG_{a(i_label)}'\n",
    "        for i_label in range(n_labels)\n",
    "    ]\n",
    "    # quick function to get all dags\n",
    "    obs_names_all = obs_names\n",
    "    \n",
    "    ax_temp = model_fit.time_trajectory_model(\n",
    "        result=result,\n",
    "        problem=problem,\n",
    "        timepoints=np.linspace(0, 130, 1301),\n",
    "        state_names=[],\n",
    "        state_ids=[],\n",
    "        observable_ids=obs_names_all)\n",
    "    for i_line, line in enumerate(ax_temp.lines):\n",
    "        xx = line.get_xdata()\n",
    "        yy = line.get_ydata()\n",
    "        if i_line == 0:\n",
    "            all_dag = yy\n",
    "            all_dag_x = xx\n",
    "        else:\n",
    "            all_dag += yy\n",
    "    all_dag_x = np.concatenate(([-40], all_dag_x))\n",
    "    all_dag = np.concatenate(([all_dag[0]], all_dag))\n",
    "    # if n_labels > 1:\n",
    "    #  obs_names = obs_names[1:]\n",
    "    ax = model_fit.time_trajectory_model(\n",
    "        result=result,\n",
    "        problem=problem,\n",
    "        timepoints=np.linspace(0, 130, 1301),\n",
    "        state_names=[],\n",
    "        state_ids=[],\n",
    "        observable_ids=obs_names)\n",
    "\n",
    "    label_colors = [\n",
    "        (0.68, 0.74, 0.84),\n",
    "        (0.502, 0.733, 0.509),\n",
    "        (0.944, 0.730, 0.418),\n",
    "        (0.944, 0.558, 0.744),\n",
    "        (0.509, 0.502, 0.733),\n",
    "        (0.733, 0.502, 0.509),\n",
    "    ]\n",
    "    color_t0 = (0.4, 0.4, 0.4)\n",
    "    \n",
    "    time_division = 120\n",
    "    if n_labels > 1:\n",
    "        time_division = 120/(n_labels-1)\n",
    "        \n",
    "    for i_line, line in enumerate(ax.lines):\n",
    "        if i_line == 1:\n",
    "            ax.plot(\n",
    "                [line.get_xdata()[1201] - (i_line-1) * time_division],\n",
    "                [line.get_ydata()[1201]],\n",
    "                color=label_colors[i_line],\n",
    "                marker='o'\n",
    "            )\n",
    "        xx = line.get_xdata()\n",
    "        yy = line.get_ydata()\n",
    "        xx = np.concatenate(([-30], xx))\n",
    "        yy = np.concatenate(([yy[0]], yy))\n",
    "        line.set_data(xx, yy)\n",
    "        line.set_markevery([1201])\n",
    "        line.set_marker('o')\n",
    "        line.set_c(label_colors[i_line])\n",
    "        ax.annotate(\n",
    "            # Label and coordinate\n",
    "            f'',\n",
    "            xy=(line.get_xdata()[1201]- (i_line-1) * time_division, line.get_ydata()[1201]),\n",
    "            xytext=(line.get_xdata()[1201], line.get_ydata()[1201]),\n",
    "            color=line.get_color(),\n",
    "            # Custom arrow\n",
    "            arrowprops=dict(arrowstyle='->', color=line.get_color(),\n",
    "                            lw=1, ls='--')\n",
    "        )\n",
    "    ax.plot(all_dag_x, all_dag, label = \"Sum over all label combinations\", color = (0.23, 0.46, 0.69))\n",
    "    xticks = [(i-1) * time_division for i in range(n_labels + 2)]\n",
    "    xticks[0] = -20\n",
    "    xlabels = [f\"$T_{i-1}$\" for i in range(n_labels + 2)]\n",
    "    ax.set_xticks(xticks, labels=xlabels)\n",
    "    ax.axvline(x=120, color='#A7A7A7', linestyle='dashed', linewidth=1)\n",
    "    ax.axvline(x=0, color='#A7A7A7', linestyle='dashed', linewidth=1)\n",
    "    ax.get_xticklabels()[0].set_color(color_t0)\n",
    "    ax.grid(False)\n",
    "\n",
    "    labeling = [item.get_text() for item in ax.get_yticklabels()]\n",
    "    labeling[1] = '0'\n",
    "    ax.set_yticklabels(labeling)\n",
    "    ax.set_xlim((-20, 130))\n",
    "    plt.title('')\n",
    "    plt.ylabel('')\n",
    "    plt.xlabel('')\n",
    "    ax.figure.set_size_inches(5, 2.5)\n",
    "    ax.set_yticks([])\n",
    "    ax.get_legend().remove()\n",
    "    # ensure 0 is within axis limits\n",
    "    ax.axhline(y=0, color='#00000000') \n",
    "\n",
    "    return ax"
   ],
   "outputs": [],
   "execution_count": null
  },
  {
   "metadata": {},
   "cell_type": "markdown",
   "source": "The following code then produces the individual figures for **Figure 6A**. To be transparent, we visualize the general trajectories, once without the sum over all labels and once with. This is to show that in the case of zero labels, while it might look like it is moving, it just means the numerically found steady state has not been perfect. This can be seen from the very small differences between maximum and minimum value of the y-axis. If we include the 0 into our axis, the final figure shows us, that there is no dynamic."
  },
  {
   "cell_type": "code",
   "metadata": {},
   "source": [
    "# Figure 6A\n",
    "\n",
    "plt.rcParams['axes.edgecolor']='black'\n",
    "for i in range(5):\n",
    "    print(f\"n_labels = {i+1}\")\n",
    "    ax = experimental_setup(cum_res.results[i*200], cum_res.pypesto_problems[i], n_labels=i+1)\n",
    "    y_limits = ax.get_ylim()\n",
    "    y_limits = (y_limits[0], y_limits[1] * 1.1)\n",
    "    ax.set_ylim(y_limits)\n",
    "    plt.tick_params(left = False, bottom = False, which='both')\n",
    "    plt.savefig(f\"Figure5/Experimental_setup_{i}labels_sum.svg\")"
   ],
   "outputs": [],
   "execution_count": null
  },
  {
   "cell_type": "code",
   "metadata": {},
   "source": [
    "# Only for legend\n",
    "i = 4\n",
    "print(f\"n_labels = {i+1}\")\n",
    "ax = experimental_setup(cum_res.results[i*200], cum_res.pypesto_problems[i], n_labels=i+1)\n",
    "ax.set_ylim(y_limits)\n",
    "\n",
    "# add legend manually\n",
    "label_colors = [\n",
    "    (0.502, 0.733, 0.509),\n",
    "    (0.944, 0.730, 0.418),\n",
    "    (0.944, 0.558, 0.744),\n",
    "    (0.509, 0.502, 0.733),\n",
    "    (0.23, 0.46, 0.69),\n",
    "    (0.68, 0.74, 0.84),\n",
    "    \"black\",\n",
    "    \"black\"\n",
    "]\n",
    "labels = [\n",
    "    \"Label 1\",\n",
    "    \"Label 2\",\n",
    "    \"Label 3\",\n",
    "    \"Label 4\",\n",
    "    \"Sum over all Labels\",\n",
    "    \"Unlabeled\",\n",
    "    \"Measurement\",\n",
    "    \"Retrieved Timepoint\"\n",
    "]\n",
    "linestyles = [\n",
    "    \"-\",\n",
    "    \"-\",\n",
    "    \"-\",\n",
    "    \"-\",\n",
    "    \"-\",\n",
    "    \"-\",\n",
    "    \"None\",\n",
    "    \"None\"\n",
    "]\n",
    "markers = [\"\", \"\", \"\", \"\", \"\", \"\", \"o\", r\"$\\dashleftarrow$\"]\n",
    "handles = [\n",
    "    mlines.Line2D([], [], color=color, linestyle=linestyle, label=label, marker=marker, markersize=8)\n",
    "    for color, linestyle, label, marker in zip(label_colors, linestyles, labels, markers)\n",
    "]\n",
    "# remove grid\n",
    "ax.grid(False)\n",
    "\n",
    "ax.legend(handles=handles, loc='center left',\n",
    "          bbox_to_anchor=(1, 0.5), ncol=2)\n",
    "# set the legend box color to black\n",
    "ax.legend_.get_frame().set_edgecolor('black')\n",
    "# tight layout\n",
    "plt.tight_layout()\n",
    "\n",
    "plt.tick_params(left = False, bottom = False, which='both')\n",
    "\n",
    "plt.savefig(f\"Figure5/Experimental_setup_legends.pdf\")"
   ],
   "outputs": [],
   "execution_count": null
  },
  {
   "metadata": {},
   "cell_type": "markdown",
   "source": "While this is not a figure, we include this to really show, that in the case of zero labels, we actually are in a numerically found steady state over all species."
  },
  {
   "cell_type": "code",
   "metadata": {},
   "source": [
    "a  = cum_res.pypesto_problems[0].objective(cum_res.results[0].optimize_result[0].x, return_dict=True)[\"rdatas\"][0]\n",
    "\n",
    "for key, value in a.items():\n",
    "    if key[0:6] == 'preeq_':\n",
    "        print('%20s: ' % key, value)"
   ],
   "outputs": [],
   "execution_count": null
  },
  {
   "cell_type": "code",
   "metadata": {},
   "source": [
    "# assure we are in steady state\n",
    "ax = model_fit.time_trajectory_model(\n",
    "        result=cum_res.results[0],\n",
    "        problem=cum_res.pypesto_problems[0],\n",
    "        timepoints=np.linspace(0, 130, 1301),\n",
    "        state_names=[],\n",
    "        state_ids=[],\n",
    ")"
   ],
   "outputs": [],
   "execution_count": null
  },
  {
   "cell_type": "code",
   "metadata": {},
   "source": [
    "for i_lab, problem in enumerate(cum_res.pypesto_problems):\n",
    "    print(f\"{i_lab} Labels\")\n",
    "    print(f\"Number of Observables: {problem.objective.amici_model.ny}\")\n",
    "    print(f\"Number of States: {problem.objective.amici_model.nx_rdata}\")"
   ],
   "outputs": [],
   "execution_count": null
  },
  {
   "metadata": {},
   "cell_type": "markdown",
   "source": "We compare computation time of the different models in **Figure 6C**. The below two code blocks generates that Figure, taking into account the computation time of the whole optimization, split by label."
  },
  {
   "metadata": {
    "pycharm": {
     "name": "#%%\n"
    }
   },
   "cell_type": "code",
   "source": [
    "# computation times\n",
    "mean_times = np.array([np.mean(result.optimize_result.time) for result in cum_res.results])\n",
    "mean_times_per_label = np.array([\n",
    "    mean_times[cum_res.res_labels == i+1] for i in range(cum_res.n_labels)\n",
    "])"
   ],
   "outputs": [],
   "execution_count": null
  },
  {
   "cell_type": "code",
   "metadata": {
    "pycharm": {
     "name": "#%%\n"
    }
   },
   "source": [
    "# Figure 6C\n",
    "plt.rcParams['axes.edgecolor']='black'\n",
    "fig, ax = plt.subplots()\n",
    "for i in range(mean_times_per_label.shape[0]):\n",
    "    ax.boxplot(\n",
    "        mean_times_per_label.T[i],\n",
    "        positions=[i*0.4],\n",
    "        boxprops=dict(facecolor=colors[i]),\n",
    "        medianprops=dict(linewidth=2),\n",
    "        labels=[i],\n",
    "        patch_artist=True,\n",
    "    )\n",
    "# log scale\n",
    "ax.set_yscale(\"log\")\n",
    "ax.set_xlabel(\"Labels\")\n",
    "ax.set_ylabel(\"Computation time (s)\")\n",
    "ax.set_xlim((-0.25, 1.85))\n",
    "plt.tick_params(left = False, bottom = False, which='both')\n",
    "plt.savefig(\"Figure5/Time_cost.pdf\")"
   ],
   "outputs": [],
   "execution_count": null
  },
  {
   "metadata": {},
   "cell_type": "markdown",
   "source": "Lastly, we want to see how the identifiability of the parameters changes with increasing number of labels. For this, we compare the correlation of true and estimated parameters. An increase would point towards better identifiability. This reproduces **Figure 6E**"
  },
  {
   "metadata": {},
   "cell_type": "code",
   "source": [
    "# Define color function\n",
    "def determine_color(value):\n",
    "    if value < 0.2:\n",
    "        return '#FF6601'  # Orange\n",
    "    elif 0.2 <= value < 0.8:\n",
    "        return '#CC99FF'  # Purple\n",
    "    else:\n",
    "        return '#4A4AFF'  # Blue\n",
    "\n",
    "cumRes = cum_res\n",
    "parameters_est = []\n",
    "parameters_true = []\n",
    "for i in range(cumRes.n_labels):\n",
    "    indices = np.where(cumRes.res_labels == i+cumRes.offset)[0]\n",
    "    parameters_est.append(\n",
    "        np.array([cumRes.results[i].optimize_result[0].x for i in indices])\n",
    "    )\n",
    "    parameters_true.append(\n",
    "        np.array([cumRes.petab_problems[i].x_nominal_free_scaled for i in indices])\n",
    "    )\n",
    "\n",
    "# do that for each element in the list\n",
    "correlations = [\n",
    "    np.array([\n",
    "        np.corrcoef(par_est[:, i], par_true[:, i])[0, 1] for i in range(par_est.shape[1])\n",
    "    ]) for par_est, par_true in zip(parameters_est, parameters_true)\n",
    "]\n",
    "\n",
    "# Calculate counts of parameters below 0.2 and above 0.8\n",
    "below_0_2 = [np.sum(np.array(correlation) < 0.2) for correlation in correlations]\n",
    "above_0_8 = [np.sum(np.array(correlation) > 0.8) for correlation in correlations]\n",
    "\n",
    "# plot violinplots\n",
    "fig, ax = plt.subplots(figsize=(15, 5))\n",
    "# Create a colormap using the colors from the violin plot labels\n",
    "cmap = LinearSegmentedColormap.from_list(\"custom_cmap\", colors)\n",
    "# violin_parts = ax.violinplot(correlations, showmedians=True)\n",
    "# for i_pc, pc in enumerate(violin_parts['bodies']):\n",
    "#     pc.set_facecolor(colors[i_pc])\n",
    "#     pc.set_edgecolor('black')\n",
    "jitters = []\n",
    "# Plot data points with jitter and determine color based on value\n",
    "for i, data in enumerate(correlations):\n",
    "    jitter = np.random.normal(scale=0.1, size=len(data))  # Add jitter for better visualization\n",
    "    jitter_x = np.full_like(data, i + 1) + jitter\n",
    "    jitters.append(jitter)\n",
    "    for x, y in zip(jitter_x, data):\n",
    "        color = determine_color(y)\n",
    "        ax.scatter(x, y, color=color, alpha=0.5)\n",
    "# # Plot data points\n",
    "# for i, data in enumerate(correlations):\n",
    "#     jitter = np.random.normal(scale=0.1, size=len(data))  # Add jitter for better visualization\n",
    "#     jitters.append(jitter)\n",
    "#     ax.scatter(np.full_like(data, i + 1) + jitter, data, color=colors[i], alpha=0.5)\n",
    "# Connect points between different correlations with grey color\n",
    "for i in range(len(correlations[0])):\n",
    "    for j in range(len(correlations) - 1):\n",
    "        ax.plot([j + 1 + jitters[j][i] , j + 2 + jitters[j+1][i]], [correlations[j][i], correlations[j + 1][i]], color='gray', alpha=0.5)\n",
    "\n",
    "# Add table with counts\n",
    "labels = [f'{i + 1} Label' for i in range(len(correlations))]\n",
    "table_data = [below_0_2, above_0_8]\n",
    "table = ax.table(cellText=table_data, loc='top', cellLoc='center', rowLabels=['Below 0.2', 'Above 0.8'], colLabels=labels, cellColours=[['white'] * len(correlations), ['white'] * len(correlations)], colColours=['lightgray'] * len(correlations))\n",
    "\n",
    "# Adjust table properties\n",
    "table.auto_set_font_size(False)\n",
    "table.set_fontsize(10)\n",
    "table.scale(1, 1.5)\n",
    "\n",
    "# Remove borders around the row labels\n",
    "for key, cell in table.get_celld().items():\n",
    "    cell.set_linewidth(0)\n",
    "# Remove grid\n",
    "ax.grid(False)\n",
    "\n",
    "# Add legend\n",
    "legend_labels = ['< 0.2', '> 0.2, < 0.8', '> 0.8']\n",
    "legend_colors = ['#FF6601', '#CC99FF', '#4A4AFF']\n",
    "legend_markers = ['o', 'o', 'o']\n",
    "legend = ax.legend(legend_labels, title='Correlation', loc='upper left', title_fontsize='large', fontsize='medium', markerscale=1.5, frameon=True)\n",
    "legend.get_frame().set_edgecolor('black')\n",
    "for handle, marker, color in zip(legend.legend_handles, legend_markers, legend_colors):\n",
    "    handle.set_color(color)  # Set marker color\n",
    "    handle.set_edgecolor('black')  # Set marker edge color\n",
    "\n",
    "plt.tick_params(left = False, bottom = False, which='both')\n",
    "plt.tight_layout()\n",
    "plt.savefig(\"Figure5/correlations.pdf\")"
   ],
   "outputs": [],
   "execution_count": null
  }
 ],
 "metadata": {
  "kernelspec": {
   "display_name": "Python 3 (ipykernel)",
   "language": "python",
   "name": "python3"
  },
  "language_info": {
   "codemirror_mode": {
    "name": "ipython",
    "version": 3
   },
   "file_extension": ".py",
   "mimetype": "text/x-python",
   "name": "python",
   "nbconvert_exporter": "python",
   "pygments_lexer": "ipython3",
   "version": "3.10.2"
  }
 },
 "nbformat": 4,
 "nbformat_minor": 1
}
